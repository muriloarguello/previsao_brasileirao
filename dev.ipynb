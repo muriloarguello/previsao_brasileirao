{
 "cells": [
  {
   "cell_type": "code",
   "execution_count": 41,
   "metadata": {},
   "outputs": [],
   "source": [
    "#importando bibliotecas\n",
    "from selenium import webdriver\n",
    "from selenium.webdriver.common.by import By\n",
    "from selenium.webdriver import ChromeOptions\n",
    "from selenium.webdriver.chrome.service import Service\n",
    "from webdriver_manager.chrome import ChromeDriverManager\n",
    "from time import sleep\n",
    "import pandas as pd\n",
    "from datetime import datetime, timedelta"
   ]
  },
  {
   "cell_type": "code",
   "execution_count": 42,
   "metadata": {},
   "outputs": [],
   "source": [
    "class Jogos:\n",
    "\n",
    "    def __init__(self, ano):\n",
    "        self.ano = ano\n",
    "        opts = ChromeOptions()\n",
    "        servico=Service(ChromeDriverManager().install())\n",
    "        driver=webdriver.Chrome(service=servico, options=opts)\n",
    "        self.driver = driver\n",
    "    \n",
    "    def _rodada_atual_func(self):\n",
    "        \"\"\"definir função para aquisitar a rodada atual\"\"\"\n",
    "        try:\n",
    "            self.rodada_atual = int(self.driver.find_element(By.XPATH,'/html/body/div[2]/main/div[2]/div/section[1]/section/nav/span[2]').text[:2])\n",
    "        except:\n",
    "            self.rodada_atual = int(self.driver.find_element(By.XPATH,'/html/body/div[2]/main/div[2]/div/section[1]/section/nav/span[2]').text[:1])\n",
    "\n",
    "    def _primeira_rodada(self):\n",
    "        \"\"\"retornar para a primeira rodada\"\"\"\n",
    "        while True:\n",
    "            check1 = 0\n",
    "            try:\n",
    "                while True:\n",
    "                    self.driver.find_element(By.XPATH,\"/html/body/div[2]/main/div[2]/div/section[1]/section/nav/span[1]\").click()\n",
    "                    Jogos._rodada_atual_func(self)\n",
    "                    if self.rodada_atual == 1:\n",
    "                        break\n",
    "                break\n",
    "            except:\n",
    "                if check1 == 10:\n",
    "                    break\n",
    "                else:\n",
    "                    sleep(1)\n",
    "                    check1 += 1\n",
    "\n",
    "    def tabela_partidas(self):\n",
    "        \"\"\"criar tabela de jogos com datas, times mandantes e times visitantes\"\"\"\n",
    "        \n",
    "        self.driver.get(\"https://ge.globo.com/futebol/brasileirao-serie-a/\")\n",
    "        self.driver.maximize_window()\n",
    "        self.driver.execute_script(\"window.scrollTo(0, 300);\")\n",
    "        sleep(3)\n",
    "        Jogos._primeira_rodada(self)\n",
    "        jogos_df = pd.DataFrame({'Datas':[], 'Time Mandante': [], 'Time Visitante': [], 'Rodada': []})\n",
    "        while True:\n",
    "            check1 = 0\n",
    "            try:\n",
    "                while True:\n",
    "                    datas_lista, mandante_lista, visitante_lista, rodada = [], [], [], []\n",
    "                    for partida in range(10):\n",
    "                        data = self.driver.find_element(By.XPATH,f'/html/body/div[2]/main/div[2]/div/section[1]/section/ul/li[{partida+1}]/div/a/div/div[1]/span[2]').text\n",
    "                        datas_lista.append(datetime(self.ano, int(data.split('/')[-1]), int(data.split('/')[0])))\n",
    "                        mandante_lista.append(self.driver.find_element(By.XPATH,f\"/html/body/div[2]/main/div[2]/div/section[1]/section/ul/li[{partida+1}]/div/a/div/div[2]/div[1]/span[1]\").get_attribute('title'))\n",
    "                        visitante_lista.append(self.driver.find_element(By.XPATH,f\"/html/body/div[2]/main/div[2]/div/section[1]/section/ul/li[{partida+1}]/div/a/div/div[2]/div[3]/span[1]\").get_attribute('title'))\n",
    "                        rodada.append(int(self.rodada_atual))\n",
    "\n",
    "                    df = pd.DataFrame({'Datas':datas_lista, 'Time Mandante': mandante_lista, 'Time Visitante': visitante_lista, 'Rodada': rodada})\n",
    "                    jogos_df = pd.concat([jogos_df, df])\n",
    "                    Jogos._rodada_atual_func(self)\n",
    "                    if self.rodada_atual == 38:\n",
    "                        break\n",
    "                    else:\n",
    "                        self.driver.find_element(By.XPATH,\"/html/body/div[2]/main/div[2]/div/section[1]/section/nav/span[3]\").click()\n",
    "                break\n",
    "            except:\n",
    "                if check1 == 15:\n",
    "                    break\n",
    "                else:\n",
    "                    sleep(1)\n",
    "                    check1+=1\n",
    "                   \n",
    "        self.tabela_partidas = jogos_df\n",
    "        self.driver.quit()\n",
    "\n",
    "def main(ano):\n",
    "\n",
    "    jogos_objeto = Jogos(ano)\n",
    "    jogos_objeto.tabela_partidas()\n",
    "    jogos_df = jogos_objeto.tabela_partidas\n",
    "\n",
    "    today = datetime(2023, 6, 6)\n",
    "    #today = date.today()\n",
    "\n",
    "    proximas_partidas = jogos_df[jogos_df['Datas'] >= today]\n",
    "    proximas_partidas = proximas_partidas[proximas_partidas['Datas']==min(proximas_partidas['Datas'])]\n",
    "    \n",
    "    d0 = min(proximas_partidas['Datas'])\n",
    "    dia_analise =  datetime(d0.year, d0.month, d0.day-1, 18, 0, 0)\n",
    "\n",
    "    return jogos_df, proximas_partidas, dia_analise\n",
    "\n"
   ]
  },
  {
   "cell_type": "code",
   "execution_count": 43,
   "metadata": {},
   "outputs": [],
   "source": [
    "jogos_df, proximas_partidas, dia_analise = main(2023)"
   ]
  },
  {
   "cell_type": "code",
   "execution_count": 44,
   "metadata": {},
   "outputs": [
    {
     "data": {
      "text/html": [
       "<div>\n",
       "<style scoped>\n",
       "    .dataframe tbody tr th:only-of-type {\n",
       "        vertical-align: middle;\n",
       "    }\n",
       "\n",
       "    .dataframe tbody tr th {\n",
       "        vertical-align: top;\n",
       "    }\n",
       "\n",
       "    .dataframe thead th {\n",
       "        text-align: right;\n",
       "    }\n",
       "</style>\n",
       "<table border=\"1\" class=\"dataframe\">\n",
       "  <thead>\n",
       "    <tr style=\"text-align: right;\">\n",
       "      <th></th>\n",
       "      <th>Datas</th>\n",
       "      <th>Time Mandante</th>\n",
       "      <th>Time Visitante</th>\n",
       "      <th>Rodada</th>\n",
       "    </tr>\n",
       "  </thead>\n",
       "  <tbody>\n",
       "    <tr>\n",
       "      <th>0</th>\n",
       "      <td>2023-04-15</td>\n",
       "      <td>Palmeiras</td>\n",
       "      <td>Cuiabá</td>\n",
       "      <td>1.0</td>\n",
       "    </tr>\n",
       "    <tr>\n",
       "      <th>1</th>\n",
       "      <td>2023-04-15</td>\n",
       "      <td>América-MG</td>\n",
       "      <td>Fluminense</td>\n",
       "      <td>1.0</td>\n",
       "    </tr>\n",
       "    <tr>\n",
       "      <th>2</th>\n",
       "      <td>2023-04-15</td>\n",
       "      <td>Botafogo</td>\n",
       "      <td>São Paulo</td>\n",
       "      <td>1.0</td>\n",
       "    </tr>\n",
       "    <tr>\n",
       "      <th>3</th>\n",
       "      <td>2023-04-15</td>\n",
       "      <td>Bragantino</td>\n",
       "      <td>Bahia</td>\n",
       "      <td>1.0</td>\n",
       "    </tr>\n",
       "    <tr>\n",
       "      <th>4</th>\n",
       "      <td>2023-04-15</td>\n",
       "      <td>Athletico-PR</td>\n",
       "      <td>Goiás</td>\n",
       "      <td>1.0</td>\n",
       "    </tr>\n",
       "    <tr>\n",
       "      <th>...</th>\n",
       "      <td>...</td>\n",
       "      <td>...</td>\n",
       "      <td>...</td>\n",
       "      <td>...</td>\n",
       "    </tr>\n",
       "    <tr>\n",
       "      <th>5</th>\n",
       "      <td>2023-12-06</td>\n",
       "      <td>Cruzeiro</td>\n",
       "      <td>Palmeiras</td>\n",
       "      <td>37.0</td>\n",
       "    </tr>\n",
       "    <tr>\n",
       "      <th>6</th>\n",
       "      <td>2023-12-06</td>\n",
       "      <td>Internacional</td>\n",
       "      <td>Botafogo</td>\n",
       "      <td>37.0</td>\n",
       "    </tr>\n",
       "    <tr>\n",
       "      <th>7</th>\n",
       "      <td>2023-12-06</td>\n",
       "      <td>Coritiba</td>\n",
       "      <td>Corinthians</td>\n",
       "      <td>37.0</td>\n",
       "    </tr>\n",
       "    <tr>\n",
       "      <th>8</th>\n",
       "      <td>2023-12-06</td>\n",
       "      <td>Bahia</td>\n",
       "      <td>Atlético-MG</td>\n",
       "      <td>37.0</td>\n",
       "    </tr>\n",
       "    <tr>\n",
       "      <th>9</th>\n",
       "      <td>2023-12-06</td>\n",
       "      <td>Cuiabá</td>\n",
       "      <td>Athletico-PR</td>\n",
       "      <td>37.0</td>\n",
       "    </tr>\n",
       "  </tbody>\n",
       "</table>\n",
       "<p>380 rows × 4 columns</p>\n",
       "</div>"
      ],
      "text/plain": [
       "        Datas  Time Mandante Time Visitante  Rodada\n",
       "0  2023-04-15      Palmeiras         Cuiabá     1.0\n",
       "1  2023-04-15     América-MG     Fluminense     1.0\n",
       "2  2023-04-15       Botafogo      São Paulo     1.0\n",
       "3  2023-04-15     Bragantino          Bahia     1.0\n",
       "4  2023-04-15   Athletico-PR          Goiás     1.0\n",
       "..        ...            ...            ...     ...\n",
       "5  2023-12-06       Cruzeiro      Palmeiras    37.0\n",
       "6  2023-12-06  Internacional       Botafogo    37.0\n",
       "7  2023-12-06       Coritiba    Corinthians    37.0\n",
       "8  2023-12-06          Bahia    Atlético-MG    37.0\n",
       "9  2023-12-06         Cuiabá   Athletico-PR    37.0\n",
       "\n",
       "[380 rows x 4 columns]"
      ]
     },
     "execution_count": 44,
     "metadata": {},
     "output_type": "execute_result"
    }
   ],
   "source": [
    "jogos_df"
   ]
  },
  {
   "cell_type": "code",
   "execution_count": 45,
   "metadata": {},
   "outputs": [
    {
     "data": {
      "text/html": [
       "<div>\n",
       "<style scoped>\n",
       "    .dataframe tbody tr th:only-of-type {\n",
       "        vertical-align: middle;\n",
       "    }\n",
       "\n",
       "    .dataframe tbody tr th {\n",
       "        vertical-align: top;\n",
       "    }\n",
       "\n",
       "    .dataframe thead th {\n",
       "        text-align: right;\n",
       "    }\n",
       "</style>\n",
       "<table border=\"1\" class=\"dataframe\">\n",
       "  <thead>\n",
       "    <tr style=\"text-align: right;\">\n",
       "      <th></th>\n",
       "      <th>Datas</th>\n",
       "      <th>Time Mandante</th>\n",
       "      <th>Time Visitante</th>\n",
       "      <th>Rodada</th>\n",
       "    </tr>\n",
       "  </thead>\n",
       "  <tbody>\n",
       "    <tr>\n",
       "      <th>0</th>\n",
       "      <td>2023-06-10</td>\n",
       "      <td>Coritiba</td>\n",
       "      <td>Santos</td>\n",
       "      <td>9.0</td>\n",
       "    </tr>\n",
       "    <tr>\n",
       "      <th>1</th>\n",
       "      <td>2023-06-10</td>\n",
       "      <td>Corinthians</td>\n",
       "      <td>Cuiabá</td>\n",
       "      <td>9.0</td>\n",
       "    </tr>\n",
       "    <tr>\n",
       "      <th>2</th>\n",
       "      <td>2023-06-10</td>\n",
       "      <td>Atlético-MG</td>\n",
       "      <td>Bragantino</td>\n",
       "      <td>9.0</td>\n",
       "    </tr>\n",
       "    <tr>\n",
       "      <th>3</th>\n",
       "      <td>2023-06-10</td>\n",
       "      <td>Bahia</td>\n",
       "      <td>Cruzeiro</td>\n",
       "      <td>9.0</td>\n",
       "    </tr>\n",
       "    <tr>\n",
       "      <th>4</th>\n",
       "      <td>2023-06-10</td>\n",
       "      <td>Botafogo</td>\n",
       "      <td>Fortaleza</td>\n",
       "      <td>9.0</td>\n",
       "    </tr>\n",
       "  </tbody>\n",
       "</table>\n",
       "</div>"
      ],
      "text/plain": [
       "       Datas Time Mandante Time Visitante  Rodada\n",
       "0 2023-06-10      Coritiba         Santos     9.0\n",
       "1 2023-06-10   Corinthians         Cuiabá     9.0\n",
       "2 2023-06-10   Atlético-MG     Bragantino     9.0\n",
       "3 2023-06-10         Bahia       Cruzeiro     9.0\n",
       "4 2023-06-10      Botafogo      Fortaleza     9.0"
      ]
     },
     "execution_count": 45,
     "metadata": {},
     "output_type": "execute_result"
    }
   ],
   "source": [
    "proximas_partidas"
   ]
  },
  {
   "cell_type": "code",
   "execution_count": 46,
   "metadata": {},
   "outputs": [
    {
     "data": {
      "text/plain": [
       "datetime.datetime(2023, 6, 9, 18, 0)"
      ]
     },
     "execution_count": 46,
     "metadata": {},
     "output_type": "execute_result"
    }
   ],
   "source": [
    "dia_analise"
   ]
  },
  {
   "cell_type": "code",
   "execution_count": null,
   "metadata": {},
   "outputs": [],
   "source": []
  },
  {
   "cell_type": "code",
   "execution_count": null,
   "metadata": {},
   "outputs": [],
   "source": []
  },
  {
   "cell_type": "code",
   "execution_count": null,
   "metadata": {},
   "outputs": [],
   "source": [
    "\n",
    "    "
   ]
  },
  {
   "cell_type": "code",
   "execution_count": 25,
   "metadata": {},
   "outputs": [
    {
     "data": {
      "text/plain": [
       "{'Datas', 'Rodada', 'Time Mandante', 'Time Visitante'}"
      ]
     },
     "execution_count": 25,
     "metadata": {},
     "output_type": "execute_result"
    }
   ],
   "source": [
    "len(set(jogos_df[jogos_df['Datas'] >= data_teste].head(11)))"
   ]
  },
  {
   "cell_type": "code",
   "execution_count": 26,
   "metadata": {},
   "outputs": [
    {
     "data": {
      "text/plain": [
       "0     9.0\n",
       "1     9.0\n",
       "2     9.0\n",
       "3     9.0\n",
       "4     9.0\n",
       "5     9.0\n",
       "6     9.0\n",
       "7     9.0\n",
       "8     9.0\n",
       "9     9.0\n",
       "0    10.0\n",
       "Name: Rodada, dtype: float64"
      ]
     },
     "execution_count": 26,
     "metadata": {},
     "output_type": "execute_result"
    }
   ],
   "source": [
    "jogos_df[jogos_df['Datas'] >= data_teste].head(11)['Rodada']"
   ]
  },
  {
   "cell_type": "code",
   "execution_count": null,
   "metadata": {},
   "outputs": [],
   "source": []
  }
 ],
 "metadata": {
  "kernelspec": {
   "display_name": "Python 3",
   "language": "python",
   "name": "python3"
  },
  "language_info": {
   "codemirror_mode": {
    "name": "ipython",
    "version": 3
   },
   "file_extension": ".py",
   "mimetype": "text/x-python",
   "name": "python",
   "nbconvert_exporter": "python",
   "pygments_lexer": "ipython3",
   "version": "3.10.11"
  }
 },
 "nbformat": 4,
 "nbformat_minor": 2
}
